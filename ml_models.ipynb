{
  "nbformat": 4,
  "nbformat_minor": 0,
  "metadata": {
    "colab": {
      "provenance": []
    },
    "kernelspec": {
      "name": "python3",
      "display_name": "Python 3"
    },
    "language_info": {
      "name": "python"
    }
  },
  "cells": [
    {
      "cell_type": "code",
      "source": [
        "from google.colab import drive\n",
        "drive.mount('/content/drive')"
      ],
      "metadata": {
        "colab": {
          "base_uri": "https://localhost:8080/"
        },
        "id": "4KYRpK34yGQs",
        "outputId": "ab2f2b09-fbd3-43b2-e2a0-23ddc63ab2aa"
      },
      "execution_count": 1,
      "outputs": [
        {
          "output_type": "stream",
          "name": "stdout",
          "text": [
            "Mounted at /content/drive\n"
          ]
        }
      ]
    },
    {
      "cell_type": "code",
      "source": [
        "import pandas as pd\n",
        "import numpy as np\n",
        "import seaborn as sns\n",
        "import matplotlib.pyplot as plt\n",
        "from sklearn.linear_model import LinearRegression\n",
        "import xgboost as xgb\n",
        "from sklearn.ensemble import RandomForestRegressor\n",
        "from sklearn.model_selection import train_test_split\n",
        "from sklearn.metrics import mean_squared_error\n",
        "from sklearn.model_selection import GridSearchCV"
      ],
      "metadata": {
        "id": "_h7TuHXjGuFM"
      },
      "execution_count": 30,
      "outputs": []
    },
    {
      "cell_type": "markdown",
      "source": [
        "##Reading datasets"
      ],
      "metadata": {
        "id": "2mLLBM2ODH8B"
      }
    },
    {
      "cell_type": "code",
      "source": [
        "#data created after applying PCA\n",
        "df = pd.read_csv('/content/drive/MyDrive/Portfolio/Projects/Housing Price Prediction/Data preprocessing/model_data.csv', header=None)\n",
        "#For saleprice column\n",
        "data = pd.read_csv('/content/drive/MyDrive/Portfolio/Projects/Housing Price Prediction/Data/train.csv')\n",
        "df.head()\n"
      ],
      "metadata": {
        "id": "bFfe8TK9G0MP",
        "colab": {
          "base_uri": "https://localhost:8080/",
          "height": 300
        },
        "outputId": "e09065d6-e182-47e5-842f-7a541deb9b25"
      },
      "execution_count": 12,
      "outputs": [
        {
          "output_type": "execute_result",
          "data": {
            "text/plain": [
              "        0         1         2         3         4         5         6    \\\n",
              "0  3.281501 -1.838097 -1.206268  1.256081 -0.163413 -0.499724 -0.315716   \n",
              "1 -0.040093  1.845834 -0.460742  0.051954 -0.868974  0.670443  0.403390   \n",
              "2  3.702446 -1.435701 -0.848173  1.255923 -0.355925 -0.930523  0.061037   \n",
              "3 -2.124114 -0.942786  1.242914  0.910772 -1.283911 -0.886924 -0.579206   \n",
              "4  5.543249 -1.488378  1.043022  1.307736 -0.570282 -0.982467  0.224270   \n",
              "\n",
              "        7         8         9    ...       120       121       122       123  \\\n",
              "0  0.809230  0.395538  0.482085  ... -0.312469  0.465589 -0.177146  0.185926   \n",
              "1 -1.779818  0.642514  0.042843  ...  0.417651 -0.419521  1.205778  0.420522   \n",
              "2  1.041740  0.476816  0.353427  ... -0.300185  0.195072 -0.021655  0.194537   \n",
              "3 -0.288739  0.592145 -0.299452  ...  1.382754  0.189218  0.634427  0.743708   \n",
              "4  0.343050 -0.401241 -0.153523  ...  0.127705  0.020146  0.401918 -0.177636   \n",
              "\n",
              "        124       125       126       127       128       129  \n",
              "0  0.128034 -0.045752  0.341612  0.200951 -0.453460  0.069194  \n",
              "1 -0.749363  0.251184  0.035967  0.985737  0.105880  0.432738  \n",
              "2  0.118580 -0.393376  0.210552  0.148866 -0.015006  0.109655  \n",
              "3  0.398317  0.389789  0.428402 -0.560206  0.520781  0.407525  \n",
              "4 -0.194775 -0.633469  0.105181  0.007091  1.027207  0.275335  \n",
              "\n",
              "[5 rows x 130 columns]"
            ],
            "text/html": [
              "\n",
              "  <div id=\"df-4ef7a1b6-1806-4f91-a97b-378c22540355\">\n",
              "    <div class=\"colab-df-container\">\n",
              "      <div>\n",
              "<style scoped>\n",
              "    .dataframe tbody tr th:only-of-type {\n",
              "        vertical-align: middle;\n",
              "    }\n",
              "\n",
              "    .dataframe tbody tr th {\n",
              "        vertical-align: top;\n",
              "    }\n",
              "\n",
              "    .dataframe thead th {\n",
              "        text-align: right;\n",
              "    }\n",
              "</style>\n",
              "<table border=\"1\" class=\"dataframe\">\n",
              "  <thead>\n",
              "    <tr style=\"text-align: right;\">\n",
              "      <th></th>\n",
              "      <th>0</th>\n",
              "      <th>1</th>\n",
              "      <th>2</th>\n",
              "      <th>3</th>\n",
              "      <th>4</th>\n",
              "      <th>5</th>\n",
              "      <th>6</th>\n",
              "      <th>7</th>\n",
              "      <th>8</th>\n",
              "      <th>9</th>\n",
              "      <th>...</th>\n",
              "      <th>120</th>\n",
              "      <th>121</th>\n",
              "      <th>122</th>\n",
              "      <th>123</th>\n",
              "      <th>124</th>\n",
              "      <th>125</th>\n",
              "      <th>126</th>\n",
              "      <th>127</th>\n",
              "      <th>128</th>\n",
              "      <th>129</th>\n",
              "    </tr>\n",
              "  </thead>\n",
              "  <tbody>\n",
              "    <tr>\n",
              "      <th>0</th>\n",
              "      <td>3.281501</td>\n",
              "      <td>-1.838097</td>\n",
              "      <td>-1.206268</td>\n",
              "      <td>1.256081</td>\n",
              "      <td>-0.163413</td>\n",
              "      <td>-0.499724</td>\n",
              "      <td>-0.315716</td>\n",
              "      <td>0.809230</td>\n",
              "      <td>0.395538</td>\n",
              "      <td>0.482085</td>\n",
              "      <td>...</td>\n",
              "      <td>-0.312469</td>\n",
              "      <td>0.465589</td>\n",
              "      <td>-0.177146</td>\n",
              "      <td>0.185926</td>\n",
              "      <td>0.128034</td>\n",
              "      <td>-0.045752</td>\n",
              "      <td>0.341612</td>\n",
              "      <td>0.200951</td>\n",
              "      <td>-0.453460</td>\n",
              "      <td>0.069194</td>\n",
              "    </tr>\n",
              "    <tr>\n",
              "      <th>1</th>\n",
              "      <td>-0.040093</td>\n",
              "      <td>1.845834</td>\n",
              "      <td>-0.460742</td>\n",
              "      <td>0.051954</td>\n",
              "      <td>-0.868974</td>\n",
              "      <td>0.670443</td>\n",
              "      <td>0.403390</td>\n",
              "      <td>-1.779818</td>\n",
              "      <td>0.642514</td>\n",
              "      <td>0.042843</td>\n",
              "      <td>...</td>\n",
              "      <td>0.417651</td>\n",
              "      <td>-0.419521</td>\n",
              "      <td>1.205778</td>\n",
              "      <td>0.420522</td>\n",
              "      <td>-0.749363</td>\n",
              "      <td>0.251184</td>\n",
              "      <td>0.035967</td>\n",
              "      <td>0.985737</td>\n",
              "      <td>0.105880</td>\n",
              "      <td>0.432738</td>\n",
              "    </tr>\n",
              "    <tr>\n",
              "      <th>2</th>\n",
              "      <td>3.702446</td>\n",
              "      <td>-1.435701</td>\n",
              "      <td>-0.848173</td>\n",
              "      <td>1.255923</td>\n",
              "      <td>-0.355925</td>\n",
              "      <td>-0.930523</td>\n",
              "      <td>0.061037</td>\n",
              "      <td>1.041740</td>\n",
              "      <td>0.476816</td>\n",
              "      <td>0.353427</td>\n",
              "      <td>...</td>\n",
              "      <td>-0.300185</td>\n",
              "      <td>0.195072</td>\n",
              "      <td>-0.021655</td>\n",
              "      <td>0.194537</td>\n",
              "      <td>0.118580</td>\n",
              "      <td>-0.393376</td>\n",
              "      <td>0.210552</td>\n",
              "      <td>0.148866</td>\n",
              "      <td>-0.015006</td>\n",
              "      <td>0.109655</td>\n",
              "    </tr>\n",
              "    <tr>\n",
              "      <th>3</th>\n",
              "      <td>-2.124114</td>\n",
              "      <td>-0.942786</td>\n",
              "      <td>1.242914</td>\n",
              "      <td>0.910772</td>\n",
              "      <td>-1.283911</td>\n",
              "      <td>-0.886924</td>\n",
              "      <td>-0.579206</td>\n",
              "      <td>-0.288739</td>\n",
              "      <td>0.592145</td>\n",
              "      <td>-0.299452</td>\n",
              "      <td>...</td>\n",
              "      <td>1.382754</td>\n",
              "      <td>0.189218</td>\n",
              "      <td>0.634427</td>\n",
              "      <td>0.743708</td>\n",
              "      <td>0.398317</td>\n",
              "      <td>0.389789</td>\n",
              "      <td>0.428402</td>\n",
              "      <td>-0.560206</td>\n",
              "      <td>0.520781</td>\n",
              "      <td>0.407525</td>\n",
              "    </tr>\n",
              "    <tr>\n",
              "      <th>4</th>\n",
              "      <td>5.543249</td>\n",
              "      <td>-1.488378</td>\n",
              "      <td>1.043022</td>\n",
              "      <td>1.307736</td>\n",
              "      <td>-0.570282</td>\n",
              "      <td>-0.982467</td>\n",
              "      <td>0.224270</td>\n",
              "      <td>0.343050</td>\n",
              "      <td>-0.401241</td>\n",
              "      <td>-0.153523</td>\n",
              "      <td>...</td>\n",
              "      <td>0.127705</td>\n",
              "      <td>0.020146</td>\n",
              "      <td>0.401918</td>\n",
              "      <td>-0.177636</td>\n",
              "      <td>-0.194775</td>\n",
              "      <td>-0.633469</td>\n",
              "      <td>0.105181</td>\n",
              "      <td>0.007091</td>\n",
              "      <td>1.027207</td>\n",
              "      <td>0.275335</td>\n",
              "    </tr>\n",
              "  </tbody>\n",
              "</table>\n",
              "<p>5 rows × 130 columns</p>\n",
              "</div>\n",
              "      <button class=\"colab-df-convert\" onclick=\"convertToInteractive('df-4ef7a1b6-1806-4f91-a97b-378c22540355')\"\n",
              "              title=\"Convert this dataframe to an interactive table.\"\n",
              "              style=\"display:none;\">\n",
              "        \n",
              "  <svg xmlns=\"http://www.w3.org/2000/svg\" height=\"24px\"viewBox=\"0 0 24 24\"\n",
              "       width=\"24px\">\n",
              "    <path d=\"M0 0h24v24H0V0z\" fill=\"none\"/>\n",
              "    <path d=\"M18.56 5.44l.94 2.06.94-2.06 2.06-.94-2.06-.94-.94-2.06-.94 2.06-2.06.94zm-11 1L8.5 8.5l.94-2.06 2.06-.94-2.06-.94L8.5 2.5l-.94 2.06-2.06.94zm10 10l.94 2.06.94-2.06 2.06-.94-2.06-.94-.94-2.06-.94 2.06-2.06.94z\"/><path d=\"M17.41 7.96l-1.37-1.37c-.4-.4-.92-.59-1.43-.59-.52 0-1.04.2-1.43.59L10.3 9.45l-7.72 7.72c-.78.78-.78 2.05 0 2.83L4 21.41c.39.39.9.59 1.41.59.51 0 1.02-.2 1.41-.59l7.78-7.78 2.81-2.81c.8-.78.8-2.07 0-2.86zM5.41 20L4 18.59l7.72-7.72 1.47 1.35L5.41 20z\"/>\n",
              "  </svg>\n",
              "      </button>\n",
              "      \n",
              "  <style>\n",
              "    .colab-df-container {\n",
              "      display:flex;\n",
              "      flex-wrap:wrap;\n",
              "      gap: 12px;\n",
              "    }\n",
              "\n",
              "    .colab-df-convert {\n",
              "      background-color: #E8F0FE;\n",
              "      border: none;\n",
              "      border-radius: 50%;\n",
              "      cursor: pointer;\n",
              "      display: none;\n",
              "      fill: #1967D2;\n",
              "      height: 32px;\n",
              "      padding: 0 0 0 0;\n",
              "      width: 32px;\n",
              "    }\n",
              "\n",
              "    .colab-df-convert:hover {\n",
              "      background-color: #E2EBFA;\n",
              "      box-shadow: 0px 1px 2px rgba(60, 64, 67, 0.3), 0px 1px 3px 1px rgba(60, 64, 67, 0.15);\n",
              "      fill: #174EA6;\n",
              "    }\n",
              "\n",
              "    [theme=dark] .colab-df-convert {\n",
              "      background-color: #3B4455;\n",
              "      fill: #D2E3FC;\n",
              "    }\n",
              "\n",
              "    [theme=dark] .colab-df-convert:hover {\n",
              "      background-color: #434B5C;\n",
              "      box-shadow: 0px 1px 3px 1px rgba(0, 0, 0, 0.15);\n",
              "      filter: drop-shadow(0px 1px 2px rgba(0, 0, 0, 0.3));\n",
              "      fill: #FFFFFF;\n",
              "    }\n",
              "  </style>\n",
              "\n",
              "      <script>\n",
              "        const buttonEl =\n",
              "          document.querySelector('#df-4ef7a1b6-1806-4f91-a97b-378c22540355 button.colab-df-convert');\n",
              "        buttonEl.style.display =\n",
              "          google.colab.kernel.accessAllowed ? 'block' : 'none';\n",
              "\n",
              "        async function convertToInteractive(key) {\n",
              "          const element = document.querySelector('#df-4ef7a1b6-1806-4f91-a97b-378c22540355');\n",
              "          const dataTable =\n",
              "            await google.colab.kernel.invokeFunction('convertToInteractive',\n",
              "                                                     [key], {});\n",
              "          if (!dataTable) return;\n",
              "\n",
              "          const docLinkHtml = 'Like what you see? Visit the ' +\n",
              "            '<a target=\"_blank\" href=https://colab.research.google.com/notebooks/data_table.ipynb>data table notebook</a>'\n",
              "            + ' to learn more about interactive tables.';\n",
              "          element.innerHTML = '';\n",
              "          dataTable['output_type'] = 'display_data';\n",
              "          await google.colab.output.renderOutput(dataTable, element);\n",
              "          const docLink = document.createElement('div');\n",
              "          docLink.innerHTML = docLinkHtml;\n",
              "          element.appendChild(docLink);\n",
              "        }\n",
              "      </script>\n",
              "    </div>\n",
              "  </div>\n",
              "  "
            ]
          },
          "metadata": {},
          "execution_count": 12
        }
      ]
    },
    {
      "cell_type": "code",
      "source": [
        "# Extract the values from the dataframe and store them in the variable x.\n",
        "# This will include all the features (columns) of the dataset.\n",
        "X = np.array(df.values)\n",
        "# Extract the values from the 'SalePrice' column of the dataframe and store them in the variable y.\n",
        "# This will represent the target variable or the labels for the supervised learning task.\n",
        "y = np.array(data['SalePrice'])"
      ],
      "metadata": {
        "id": "dRIm8AbRIExA"
      },
      "execution_count": 16,
      "outputs": []
    },
    {
      "cell_type": "code",
      "source": [
        "y.shape"
      ],
      "metadata": {
        "colab": {
          "base_uri": "https://localhost:8080/"
        },
        "id": "H39dgP_yE8Pu",
        "outputId": "2a64a82c-0fb7-4f92-ffe3-b432c0bcbee1"
      },
      "execution_count": 15,
      "outputs": [
        {
          "output_type": "execute_result",
          "data": {
            "text/plain": [
              "(1460,)"
            ]
          },
          "metadata": {},
          "execution_count": 15
        }
      ]
    },
    {
      "cell_type": "markdown",
      "source": [
        "#Model Deployment\n",
        "Applying multiple models to ensure accurate predictions.           \n",
        "Models to apply:          \n",
        "- Linear Regression\n",
        "- Random Forest\n",
        "- XGBoost                  \n",
        "\n",
        "Leveraging different algorithms to capture relationships in the data and provide robust predictions for the task."
      ],
      "metadata": {
        "id": "0B3HMIFCDple"
      }
    },
    {
      "cell_type": "markdown",
      "source": [
        "##Linear Regression\n",
        "Due to the non-normal distribution of our target variable (SalePrice), we applied a log normal transformation. This technique involves taking the logarithm of the variable's values, converting skewed data to a more symmetrical distribution. This transformation ensures better adherence to modeling assumptions and can enhance the performance of specific algorithms."
      ],
      "metadata": {
        "id": "hvqcCFGYNGe1"
      }
    },
    {
      "cell_type": "code",
      "source": [
        "# Apply logarithmic transformation to the target variable\n",
        "transformed_y = np.log(y)\n",
        "\n",
        "# Split the data into training and testing sets\n",
        "X_train, X_test, y_train, y_test = train_test_split(X, transformed_y, test_size=0.2, random_state=42)\n",
        "\n",
        "# Initialize and fit the linear regression model\n",
        "regression_model = LinearRegression()\n",
        "regression_model.fit(X_train, y_train)\n",
        "\n",
        "# # Make predictions on the testing data\n",
        "y_pred = regression_model.predict(X_test)\n",
        "\n",
        "# # Apply the inverse logarithmic transformation to obtain predictions in the original scale\n",
        "y_pred_original_scale = np.exp(y_pred)\n",
        "\n",
        "# # Evaluate the model using mean squared error (MSE)\n",
        "mse = mean_squared_error(y_test, y_pred)\n",
        "print(f\"Mean Squared Error: {mse}\")"
      ],
      "metadata": {
        "colab": {
          "base_uri": "https://localhost:8080/"
        },
        "id": "MPP57xL8I-vs",
        "outputId": "9cdc967a-ae01-47d8-adde-64bb1ad2a71f"
      },
      "execution_count": 26,
      "outputs": [
        {
          "output_type": "stream",
          "name": "stdout",
          "text": [
            "Mean Squared Error: 0.03114410376067262\n"
          ]
        }
      ]
    },
    {
      "cell_type": "markdown",
      "source": [
        "##Random Forest"
      ],
      "metadata": {
        "id": "SfWuuTHEMsZy"
      }
    },
    {
      "cell_type": "code",
      "source": [
        "#data for random forest\n",
        "# Split the data into training and testing sets\n",
        "X_train, X_test, y_train, y_test = train_test_split(X, y, test_size=0.2, random_state=42)\n",
        "clf = RandomForestRegressor()\n",
        "clf.fit(X_train, y_train)\n",
        "pred = clf.predict(X_test)\n",
        "mse_rf = mean_squared_error(y_test , pred)\n",
        "print(f\"Mean Squared Error: {mse}\")"
      ],
      "metadata": {
        "colab": {
          "base_uri": "https://localhost:8080/"
        },
        "id": "78sHTr9MFUSA",
        "outputId": "921a64ce-4b14-4dcb-d2ec-335c650e3f00"
      },
      "execution_count": 39,
      "outputs": [
        {
          "output_type": "stream",
          "name": "stdout",
          "text": [
            "Mean Squared Error: 0.03114410376067262\n"
          ]
        }
      ]
    },
    {
      "cell_type": "markdown",
      "source": [
        "##XGBoost"
      ],
      "metadata": {
        "id": "mPjwGAsMMwYp"
      }
    },
    {
      "cell_type": "code",
      "source": [
        "# Split the data into training and testing sets\n",
        "X_train, X_test, y_train, y_test = train_test_split(X, y, test_size=0.2, random_state=42)\n",
        "# Initialize the XGBoost model\n",
        "xgboost_model = xgb.XGBRegressor()\n",
        "# Fit the model on the training data\n",
        "xgboost_model.fit(X_train, y_train)\n",
        "# Make predictions on the testing data\n",
        "y_pred = xgboost_model.predict(X_test)\n",
        "# Calculate the mean squared error (MSE)\n",
        "mse = mean_squared_error(y_test, y_pred)\n",
        "print(f\"Mean Squared Error: {mse}\")"
      ],
      "metadata": {
        "colab": {
          "base_uri": "https://localhost:8080/"
        },
        "id": "nE4fpSgLMavR",
        "outputId": "f1390b90-67a3-421e-b702-d9dfe86354f8"
      },
      "execution_count": 40,
      "outputs": [
        {
          "output_type": "stream",
          "name": "stdout",
          "text": [
            "Mean Squared Error: 1295348436.9918277\n"
          ]
        }
      ]
    },
    {
      "cell_type": "markdown",
      "source": [
        "Based on the higher scores obtained for Random Forest and Linear Regression in our experiments, it suggests that these algorithms perform well for predicting housing prices. Therefore, Random Forest and Linear Regression are considered as the most suitable algorithms for this specific task."
      ],
      "metadata": {
        "id": "UthH1mbcNHQ8"
      }
    }
  ]
}