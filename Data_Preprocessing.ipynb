{
  "cells": [
    {
      "cell_type": "code",
      "execution_count": 1,
      "metadata": {
        "colab": {
          "base_uri": "https://localhost:8080/"
        },
        "id": "k9Sj2sVysAmP",
        "outputId": "306a9bd8-ab9f-4f26-b91d-82f002a48229"
      },
      "outputs": [
        {
          "output_type": "stream",
          "name": "stdout",
          "text": [
            "Mounted at /content/drive\n"
          ]
        }
      ],
      "source": [
        "from google.colab import drive\n",
        "drive.mount('/content/drive')"
      ]
    },
    {
      "cell_type": "markdown",
      "source": [
        "#Importing required librarires"
      ],
      "metadata": {
        "id": "cEOEKV81kbH-"
      }
    },
    {
      "cell_type": "code",
      "execution_count": 22,
      "metadata": {
        "id": "AlyZgCmsERqm"
      },
      "outputs": [],
      "source": [
        "import pandas as pd\n",
        "import numpy as np\n",
        "import seaborn as sns\n",
        "import matplotlib.pyplot as plt\n",
        "from sklearn.preprocessing import LabelEncoder\n",
        "from scipy.stats import chi2_contingency\n",
        "from sklearn.preprocessing import StandardScaler\n",
        "from sklearn.preprocessing import RobustScaler\n",
        "from sklearn.decomposition import PCA"
      ]
    },
    {
      "cell_type": "markdown",
      "source": [
        "#Reading the dataset"
      ],
      "metadata": {
        "id": "I6SPjLL0kfCf"
      }
    },
    {
      "cell_type": "code",
      "execution_count": 23,
      "metadata": {
        "colab": {
          "base_uri": "https://localhost:8080/",
          "height": 300
        },
        "id": "mMUO7-ABK6MN",
        "outputId": "22007dce-0494-4c9a-cd3d-07c4663362a1"
      },
      "outputs": [
        {
          "output_type": "execute_result",
          "data": {
            "text/plain": [
              "   MSSubClass MSZoning  LotFrontage  LotArea Street    Alley LotShape  \\\n",
              "0          60       RL         65.0     8450   Pave  Unknown      Reg   \n",
              "1          20       RL         80.0     9600   Pave  Unknown      Reg   \n",
              "2          60       RL         68.0    11250   Pave  Unknown      IR1   \n",
              "3          70       RL         60.0     9550   Pave  Unknown      IR1   \n",
              "4          60       RL         84.0    14260   Pave  Unknown      IR1   \n",
              "\n",
              "  LandContour Utilities LotConfig  ... ScreenPorch PoolArea   PoolQC  Fence  \\\n",
              "0         Lvl    AllPub    Inside  ...           0        0  Unknown  MnPrv   \n",
              "1         Lvl    AllPub       FR2  ...           0        0  Unknown  MnPrv   \n",
              "2         Lvl    AllPub    Inside  ...           0        0  Unknown  MnPrv   \n",
              "3         Lvl    AllPub    Corner  ...           0        0  Unknown  MnPrv   \n",
              "4         Lvl    AllPub       FR2  ...           0        0  Unknown  MnPrv   \n",
              "\n",
              "  MiscFeature MiscVal  MoSold  YrSold  SaleType  SaleCondition  \n",
              "0        Shed       0       2    2008        WD         Normal  \n",
              "1        Shed       0       5    2007        WD         Normal  \n",
              "2        Shed       0       9    2008        WD         Normal  \n",
              "3        Shed       0       2    2006        WD        Abnorml  \n",
              "4        Shed       0      12    2008        WD         Normal  \n",
              "\n",
              "[5 rows x 79 columns]"
            ],
            "text/html": [
              "\n",
              "  <div id=\"df-f937e79a-ccb3-42cb-9007-afa2d4c9d432\">\n",
              "    <div class=\"colab-df-container\">\n",
              "      <div>\n",
              "<style scoped>\n",
              "    .dataframe tbody tr th:only-of-type {\n",
              "        vertical-align: middle;\n",
              "    }\n",
              "\n",
              "    .dataframe tbody tr th {\n",
              "        vertical-align: top;\n",
              "    }\n",
              "\n",
              "    .dataframe thead th {\n",
              "        text-align: right;\n",
              "    }\n",
              "</style>\n",
              "<table border=\"1\" class=\"dataframe\">\n",
              "  <thead>\n",
              "    <tr style=\"text-align: right;\">\n",
              "      <th></th>\n",
              "      <th>MSSubClass</th>\n",
              "      <th>MSZoning</th>\n",
              "      <th>LotFrontage</th>\n",
              "      <th>LotArea</th>\n",
              "      <th>Street</th>\n",
              "      <th>Alley</th>\n",
              "      <th>LotShape</th>\n",
              "      <th>LandContour</th>\n",
              "      <th>Utilities</th>\n",
              "      <th>LotConfig</th>\n",
              "      <th>...</th>\n",
              "      <th>ScreenPorch</th>\n",
              "      <th>PoolArea</th>\n",
              "      <th>PoolQC</th>\n",
              "      <th>Fence</th>\n",
              "      <th>MiscFeature</th>\n",
              "      <th>MiscVal</th>\n",
              "      <th>MoSold</th>\n",
              "      <th>YrSold</th>\n",
              "      <th>SaleType</th>\n",
              "      <th>SaleCondition</th>\n",
              "    </tr>\n",
              "  </thead>\n",
              "  <tbody>\n",
              "    <tr>\n",
              "      <th>0</th>\n",
              "      <td>60</td>\n",
              "      <td>RL</td>\n",
              "      <td>65.0</td>\n",
              "      <td>8450</td>\n",
              "      <td>Pave</td>\n",
              "      <td>Unknown</td>\n",
              "      <td>Reg</td>\n",
              "      <td>Lvl</td>\n",
              "      <td>AllPub</td>\n",
              "      <td>Inside</td>\n",
              "      <td>...</td>\n",
              "      <td>0</td>\n",
              "      <td>0</td>\n",
              "      <td>Unknown</td>\n",
              "      <td>MnPrv</td>\n",
              "      <td>Shed</td>\n",
              "      <td>0</td>\n",
              "      <td>2</td>\n",
              "      <td>2008</td>\n",
              "      <td>WD</td>\n",
              "      <td>Normal</td>\n",
              "    </tr>\n",
              "    <tr>\n",
              "      <th>1</th>\n",
              "      <td>20</td>\n",
              "      <td>RL</td>\n",
              "      <td>80.0</td>\n",
              "      <td>9600</td>\n",
              "      <td>Pave</td>\n",
              "      <td>Unknown</td>\n",
              "      <td>Reg</td>\n",
              "      <td>Lvl</td>\n",
              "      <td>AllPub</td>\n",
              "      <td>FR2</td>\n",
              "      <td>...</td>\n",
              "      <td>0</td>\n",
              "      <td>0</td>\n",
              "      <td>Unknown</td>\n",
              "      <td>MnPrv</td>\n",
              "      <td>Shed</td>\n",
              "      <td>0</td>\n",
              "      <td>5</td>\n",
              "      <td>2007</td>\n",
              "      <td>WD</td>\n",
              "      <td>Normal</td>\n",
              "    </tr>\n",
              "    <tr>\n",
              "      <th>2</th>\n",
              "      <td>60</td>\n",
              "      <td>RL</td>\n",
              "      <td>68.0</td>\n",
              "      <td>11250</td>\n",
              "      <td>Pave</td>\n",
              "      <td>Unknown</td>\n",
              "      <td>IR1</td>\n",
              "      <td>Lvl</td>\n",
              "      <td>AllPub</td>\n",
              "      <td>Inside</td>\n",
              "      <td>...</td>\n",
              "      <td>0</td>\n",
              "      <td>0</td>\n",
              "      <td>Unknown</td>\n",
              "      <td>MnPrv</td>\n",
              "      <td>Shed</td>\n",
              "      <td>0</td>\n",
              "      <td>9</td>\n",
              "      <td>2008</td>\n",
              "      <td>WD</td>\n",
              "      <td>Normal</td>\n",
              "    </tr>\n",
              "    <tr>\n",
              "      <th>3</th>\n",
              "      <td>70</td>\n",
              "      <td>RL</td>\n",
              "      <td>60.0</td>\n",
              "      <td>9550</td>\n",
              "      <td>Pave</td>\n",
              "      <td>Unknown</td>\n",
              "      <td>IR1</td>\n",
              "      <td>Lvl</td>\n",
              "      <td>AllPub</td>\n",
              "      <td>Corner</td>\n",
              "      <td>...</td>\n",
              "      <td>0</td>\n",
              "      <td>0</td>\n",
              "      <td>Unknown</td>\n",
              "      <td>MnPrv</td>\n",
              "      <td>Shed</td>\n",
              "      <td>0</td>\n",
              "      <td>2</td>\n",
              "      <td>2006</td>\n",
              "      <td>WD</td>\n",
              "      <td>Abnorml</td>\n",
              "    </tr>\n",
              "    <tr>\n",
              "      <th>4</th>\n",
              "      <td>60</td>\n",
              "      <td>RL</td>\n",
              "      <td>84.0</td>\n",
              "      <td>14260</td>\n",
              "      <td>Pave</td>\n",
              "      <td>Unknown</td>\n",
              "      <td>IR1</td>\n",
              "      <td>Lvl</td>\n",
              "      <td>AllPub</td>\n",
              "      <td>FR2</td>\n",
              "      <td>...</td>\n",
              "      <td>0</td>\n",
              "      <td>0</td>\n",
              "      <td>Unknown</td>\n",
              "      <td>MnPrv</td>\n",
              "      <td>Shed</td>\n",
              "      <td>0</td>\n",
              "      <td>12</td>\n",
              "      <td>2008</td>\n",
              "      <td>WD</td>\n",
              "      <td>Normal</td>\n",
              "    </tr>\n",
              "  </tbody>\n",
              "</table>\n",
              "<p>5 rows × 79 columns</p>\n",
              "</div>\n",
              "      <button class=\"colab-df-convert\" onclick=\"convertToInteractive('df-f937e79a-ccb3-42cb-9007-afa2d4c9d432')\"\n",
              "              title=\"Convert this dataframe to an interactive table.\"\n",
              "              style=\"display:none;\">\n",
              "        \n",
              "  <svg xmlns=\"http://www.w3.org/2000/svg\" height=\"24px\"viewBox=\"0 0 24 24\"\n",
              "       width=\"24px\">\n",
              "    <path d=\"M0 0h24v24H0V0z\" fill=\"none\"/>\n",
              "    <path d=\"M18.56 5.44l.94 2.06.94-2.06 2.06-.94-2.06-.94-.94-2.06-.94 2.06-2.06.94zm-11 1L8.5 8.5l.94-2.06 2.06-.94-2.06-.94L8.5 2.5l-.94 2.06-2.06.94zm10 10l.94 2.06.94-2.06 2.06-.94-2.06-.94-.94-2.06-.94 2.06-2.06.94z\"/><path d=\"M17.41 7.96l-1.37-1.37c-.4-.4-.92-.59-1.43-.59-.52 0-1.04.2-1.43.59L10.3 9.45l-7.72 7.72c-.78.78-.78 2.05 0 2.83L4 21.41c.39.39.9.59 1.41.59.51 0 1.02-.2 1.41-.59l7.78-7.78 2.81-2.81c.8-.78.8-2.07 0-2.86zM5.41 20L4 18.59l7.72-7.72 1.47 1.35L5.41 20z\"/>\n",
              "  </svg>\n",
              "      </button>\n",
              "      \n",
              "  <style>\n",
              "    .colab-df-container {\n",
              "      display:flex;\n",
              "      flex-wrap:wrap;\n",
              "      gap: 12px;\n",
              "    }\n",
              "\n",
              "    .colab-df-convert {\n",
              "      background-color: #E8F0FE;\n",
              "      border: none;\n",
              "      border-radius: 50%;\n",
              "      cursor: pointer;\n",
              "      display: none;\n",
              "      fill: #1967D2;\n",
              "      height: 32px;\n",
              "      padding: 0 0 0 0;\n",
              "      width: 32px;\n",
              "    }\n",
              "\n",
              "    .colab-df-convert:hover {\n",
              "      background-color: #E2EBFA;\n",
              "      box-shadow: 0px 1px 2px rgba(60, 64, 67, 0.3), 0px 1px 3px 1px rgba(60, 64, 67, 0.15);\n",
              "      fill: #174EA6;\n",
              "    }\n",
              "\n",
              "    [theme=dark] .colab-df-convert {\n",
              "      background-color: #3B4455;\n",
              "      fill: #D2E3FC;\n",
              "    }\n",
              "\n",
              "    [theme=dark] .colab-df-convert:hover {\n",
              "      background-color: #434B5C;\n",
              "      box-shadow: 0px 1px 3px 1px rgba(0, 0, 0, 0.15);\n",
              "      filter: drop-shadow(0px 1px 2px rgba(0, 0, 0, 0.3));\n",
              "      fill: #FFFFFF;\n",
              "    }\n",
              "  </style>\n",
              "\n",
              "      <script>\n",
              "        const buttonEl =\n",
              "          document.querySelector('#df-f937e79a-ccb3-42cb-9007-afa2d4c9d432 button.colab-df-convert');\n",
              "        buttonEl.style.display =\n",
              "          google.colab.kernel.accessAllowed ? 'block' : 'none';\n",
              "\n",
              "        async function convertToInteractive(key) {\n",
              "          const element = document.querySelector('#df-f937e79a-ccb3-42cb-9007-afa2d4c9d432');\n",
              "          const dataTable =\n",
              "            await google.colab.kernel.invokeFunction('convertToInteractive',\n",
              "                                                     [key], {});\n",
              "          if (!dataTable) return;\n",
              "\n",
              "          const docLinkHtml = 'Like what you see? Visit the ' +\n",
              "            '<a target=\"_blank\" href=https://colab.research.google.com/notebooks/data_table.ipynb>data table notebook</a>'\n",
              "            + ' to learn more about interactive tables.';\n",
              "          element.innerHTML = '';\n",
              "          dataTable['output_type'] = 'display_data';\n",
              "          await google.colab.output.renderOutput(dataTable, element);\n",
              "          const docLink = document.createElement('div');\n",
              "          docLink.innerHTML = docLinkHtml;\n",
              "          element.appendChild(docLink);\n",
              "        }\n",
              "      </script>\n",
              "    </div>\n",
              "  </div>\n",
              "  "
            ]
          },
          "metadata": {},
          "execution_count": 23
        }
      ],
      "source": [
        "#read the data\n",
        "df = pd.read_csv(\"/content/drive/MyDrive/Portfolio/Projects/Housing Price Prediction/EDA/eda_train.csv\")\n",
        "del df['Unnamed: 0']\n",
        "#we dont need to apply any technique on house id, so lets remove it.\n",
        "id =  df['Id']\n",
        "del df['Id']\n",
        "price = df['SalePrice']\n",
        "del df['SalePrice']     ##no need to scale target variable\n",
        "df.head()"
      ]
    },
    {
      "cell_type": "markdown",
      "source": [
        "##Getting Categorical Columns"
      ],
      "metadata": {
        "id": "hNh5MJ5o0ZVJ"
      }
    },
    {
      "cell_type": "code",
      "execution_count": 24,
      "metadata": {
        "colab": {
          "base_uri": "https://localhost:8080/"
        },
        "id": "d8Hps9_9PiIr",
        "outputId": "7c3264ae-2b95-4782-92f2-6f3834563870"
      },
      "outputs": [
        {
          "output_type": "stream",
          "name": "stdout",
          "text": [
            "['MSZoning', 'Street', 'Alley', 'LotShape', 'LandContour', 'Utilities', 'LotConfig', 'LandSlope', 'Neighborhood', 'Condition1', 'Condition2', 'BldgType', 'HouseStyle', 'RoofStyle', 'RoofMatl', 'Exterior1st', 'Exterior2nd', 'MasVnrType', 'ExterQual', 'ExterCond', 'Foundation', 'BsmtQual', 'BsmtCond', 'BsmtExposure', 'BsmtFinType1', 'BsmtFinType2', 'Heating', 'HeatingQC', 'CentralAir', 'Electrical', 'KitchenQual', 'Functional', 'FireplaceQu', 'GarageType', 'GarageFinish', 'GarageQual', 'GarageCond', 'PavedDrive', 'PoolQC', 'Fence', 'MiscFeature', 'SaleType', 'SaleCondition']\n"
          ]
        }
      ],
      "source": [
        "#fetching categorical columns\n",
        "cat_cols = list(col for col in df.columns if df[col].dtype==object)\n",
        "print(cat_cols)"
      ]
    },
    {
      "cell_type": "markdown",
      "source": [
        "Categorical data is divided into two types -\n",
        "* Nominal categorical data - doesnt have meaningful order.\n",
        "* Ordinal categorical data - has meaningful order.     \n",
        "      \n",
        "To differentiate our data columns into Nominal and Ordinal we have used Chi-square contigency test."
      ],
      "metadata": {
        "id": "BLYvL0WB08HH"
      }
    },
    {
      "cell_type": "code",
      "execution_count": 25,
      "metadata": {
        "id": "c5Hss7nh66cG"
      },
      "outputs": [],
      "source": [
        "#create list for nominal and ordinal columns\n",
        "nominal_cols = []\n",
        "ordinal_cols = []\n",
        "\n",
        "#add categorical columns with respect to thier category\n",
        "for col in cat_cols:\n",
        "    # Create a contingency table of the variable and the target variable\n",
        "    contingency_table = pd.crosstab(df[col], price)\n",
        "\n",
        "    # Perform the chi-squared test\n",
        "    chi2, p, dof, expected = chi2_contingency(contingency_table)\n",
        "\n",
        "    # Determine whether the variable is nominal or ordinal based on the p-value\n",
        "    if p > 0.05:\n",
        "        #if p_value is greater than C.I. we add column into Nominal category\n",
        "        nominal_cols.append(col)\n",
        "    else:\n",
        "        #if p_value is lesser than C.I. we add column into Ordinal category\n",
        "        ordinal_cols.append(col)"
      ]
    },
    {
      "cell_type": "markdown",
      "source": [
        "#Data Preprocessing\n",
        "\n",
        "We can utilize one-hot encoding for nominal columns since they lack meaningful order. This approach involves creating separate columns for each category within the column. On the other hand, for ordinal columns, we can employ label encoding, which assigns numerical values to the categories based on their order. This allows us to capture the inherent ordering within the column."
      ],
      "metadata": {
        "id": "IaXJOO0e2R5Z"
      }
    },
    {
      "cell_type": "code",
      "execution_count": 26,
      "metadata": {
        "id": "ydOes5ZD82QR"
      },
      "outputs": [],
      "source": [
        "# perform one-hot encoding using pandas get_dummies function on nominal categorical variabels\n",
        "df['Id'] = id\n",
        "one_hot_encoded = pd.get_dummies(df[nominal_cols])\n",
        "one_hot_encoded['Id'] = id\n",
        "df = pd.merge(df, one_hot_encoded, on='Id', how='inner')"
      ]
    },
    {
      "cell_type": "code",
      "execution_count": 27,
      "metadata": {
        "id": "D-Gaqn9_9gHb"
      },
      "outputs": [],
      "source": [
        "# Create an instance of LabelEncoder\n",
        "label_encoder = LabelEncoder()\n",
        "\n",
        "# Apply label encoding to each ordinal feature\n",
        "for feature in ordinal_cols:\n",
        "    df[feature + '_encoded'] = label_encoder.fit_transform(df[feature])\n"
      ]
    },
    {
      "cell_type": "markdown",
      "source": [
        "#Data Scaling\n",
        "To standardize numerical columns, we can utilize the StandardScaler preprocessing technique. It scales the features by subtracting the mean and dividing by the standard deviation.\n",
        "The formula is expressed as:           \n",
        "`z = (x - u) / s`          \n",
        "where           \n",
        "- z is the standardized value,             \n",
        "- x is the original value,             \n",
        "- u is the mean, and                \n",
        "- s is the standard deviation.     \n",
        "\n",
        "StandardScaler ensures that the numerical features have a mean of 0 and a standard deviation of 1, making them comparable for machine learning algorithms."
      ],
      "metadata": {
        "id": "9sP73sTF-ROB"
      }
    },
    {
      "cell_type": "code",
      "execution_count": 28,
      "metadata": {
        "id": "0AVDrwZ_gU3u"
      },
      "outputs": [],
      "source": [
        "#fetching numerical columns\n",
        "num_cols = list(set(df.columns) - set(cat_cols))\n",
        "scaler = StandardScaler()\n",
        "df[num_cols] = scaler.fit_transform(df[num_cols])\n",
        "final_cols = [ cols for cols in df.columns if cols not in cat_cols]\n",
        "data = df[final_cols]\n"
      ]
    },
    {
      "cell_type": "markdown",
      "source": [
        "##Dimensionality Reduction\n",
        "Dimensionality reduction is necessary to mitigate the curse of dimensionality, where high-dimensional data can lead to increased complexity and computational inefficiency. In order to address this, I will apply feature extraction technique, specifically PCA (Principal Component Analysis) algorithm, to reduce the dimensionality of the dataset while retaining the most important information and minimizing information loss."
      ],
      "metadata": {
        "id": "a8wTS-6i_Ot-"
      }
    },
    {
      "cell_type": "code",
      "execution_count": 29,
      "metadata": {
        "id": "E2rAqG0577hg"
      },
      "outputs": [],
      "source": [
        "# Instantiate PCA (Principal Component Analysis) object\n",
        "pca = PCA()\n",
        "\n",
        "# Apply PCA to the data\n",
        "data_pca = pca.fit_transform(data.values)\n",
        "\n",
        "# Calculate the explained variance ratio, which represents the proportion of variance explained by each principal component.\n",
        "# This helps us understand how much information is retained in each component.\n",
        "explained_var_ratio = pca.explained_variance_ratio_\n"
      ]
    },
    {
      "cell_type": "code",
      "execution_count": 30,
      "metadata": {
        "colab": {
          "base_uri": "https://localhost:8080/",
          "height": 472
        },
        "id": "bk2aSAXXBY33",
        "outputId": "206701aa-522f-4841-96ec-95012cda1c4f"
      },
      "outputs": [
        {
          "output_type": "display_data",
          "data": {
            "text/plain": [
              "<Figure size 640x480 with 1 Axes>"
            ],
            "image/png": "[encoded data removed]"
          },
          "metadata": {}
        }
      ],
      "source": [
        "#plotting scree plot using matplotlib\n",
        "num_components = len(explained_var_ratio)\n",
        "index = np.arange(num_components)\n",
        "plt.plot(index, explained_var_ratio, marker='o', linestyle='-', color='b')\n",
        "plt.xlabel('Principal Component')\n",
        "plt.ylabel('Cumulative Explained Variance')\n",
        "plt.title('Scree Plot')\n",
        "plt.show()"
      ]
    },
    {
      "cell_type": "code",
      "execution_count": 31,
      "metadata": {
        "colab": {
          "base_uri": "https://localhost:8080/"
        },
        "id": "7MwgxJfG8XoK",
        "outputId": "219ab08b-f3aa-4a22-e08a-2eb4dbbc9edb"
      },
      "outputs": [
        {
          "output_type": "execute_result",
          "data": {
            "text/plain": [
              "130"
            ]
          },
          "metadata": {},
          "execution_count": 31
        }
      ],
      "source": [
        "# Determine the ideal number of principal components using the elbow method\n",
        "cumulative_var_ratio = np.cumsum(explained_var_ratio)\n",
        "n_components = np.argmax(cumulative_var_ratio >= 0.95) + 1\n",
        "n_components"
      ]
    },
    {
      "cell_type": "markdown",
      "metadata": {
        "id": "c_gW49WAD7OI"
      },
      "source": [
        "**From both the scree plot and calculative method we can see that 130 principle component are enough to explain the maximum variance in data.**"
      ]
    },
    {
      "cell_type": "code",
      "execution_count": 32,
      "metadata": {
        "id": "39Q_RtG989fv"
      },
      "outputs": [],
      "source": [
        "pca = PCA(n_components=130)\n",
        "data_pca = pca.fit_transform(data)"
      ]
    },
    {
      "cell_type": "code",
      "execution_count": 33,
      "metadata": {
        "colab": {
          "base_uri": "https://localhost:8080/"
        },
        "id": "6IhNHlxFEPRi",
        "outputId": "35567c34-ab5b-4dda-f1af-eb6c8ae66287"
      },
      "outputs": [
        {
          "output_type": "execute_result",
          "data": {
            "text/plain": [
              "array([[ 3.28150111, -1.83809675, -1.20626771, ...,  0.2009512 ,\n",
              "        -0.45346027,  0.06919379],\n",
              "       [-0.04009282,  1.84583354, -0.46074216, ...,  0.98573672,\n",
              "         0.1058803 ,  0.43273774],\n",
              "       [ 3.70244645, -1.43570054, -0.84817338, ...,  0.14886573,\n",
              "        -0.01500622,  0.10965531],\n",
              "       ...,\n",
              "       [ 2.08872514, -1.97685765,  1.63169704, ..., -0.38314184,\n",
              "         1.23037792,  0.91388314],\n",
              "       [-2.87967576,  3.68064253, -0.98808931, ...,  0.11491479,\n",
              "        -0.08547444,  0.27252867],\n",
              "       [-0.85122377,  3.96440124, -0.89482429, ..., -1.23811279,\n",
              "        -0.75038971, -0.21280707]])"
            ]
          },
          "metadata": {},
          "execution_count": 33
        }
      ],
      "source": [
        "data_pca"
      ]
    },
    {
      "cell_type": "code",
      "execution_count": 34,
      "metadata": {
        "id": "jesLVvgJETPc"
      },
      "outputs": [],
      "source": [
        "np.savetxt('model_data.csv', data_pca, delimiter=',')"
      ]
    }
  ],
  "metadata": {
    "colab": {
      "provenance": []
    },
    "kernelspec": {
      "display_name": "Python 3",
      "name": "python3"
    },
    "language_info": {
      "name": "python"
    }
  },
  "nbformat": 4,
  "nbformat_minor": 0
}